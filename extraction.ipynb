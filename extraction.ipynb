{
 "cells": [
  {
   "cell_type": "markdown",
   "metadata": {},
   "source": [
    "# Web scraping of the pytorch document"
   ]
  },
  {
   "cell_type": "markdown",
   "metadata": {},
   "source": [
    "## Importing libraries"
   ]
  },
  {
   "cell_type": "code",
   "execution_count": 1,
   "metadata": {},
   "outputs": [],
   "source": [
    "from bs4 import BeautifulSoup as bs\n",
    "import requests\n",
    "from urllib.parse import urljoin\n",
    "import json\n",
    "# import pandas as pd"
   ]
  },
  {
   "cell_type": "code",
   "execution_count": 2,
   "metadata": {},
   "outputs": [],
   "source": [
    "base_url=\"https://pytorch.org/docs/stable/\"\n",
    "url=\"nn.html\"\n",
    "\n",
    "response=requests.get(urljoin(base_url,url))\n",
    "\n",
    "html=response.text"
   ]
  },
  {
   "cell_type": "code",
   "execution_count": 3,
   "metadata": {},
   "outputs": [],
   "source": [
    "soup=bs(html,'html.parser')"
   ]
  },
  {
   "cell_type": "code",
   "execution_count": 4,
   "metadata": {},
   "outputs": [],
   "source": [
    "def extract_doc_info(soup, base_url=\"https://pytorch.org/docs/stable/\"):\n",
    "    result = {}\n",
    "\n",
    "    try:\n",
    "        # Extract title from <span class=\"pre\">\n",
    "        title = soup.find(\"span\", class_=\"pre\").get_text(strip=True)\n",
    "        result[\"title\"] = title\n",
    "    except AttributeError:\n",
    "        result[\"title\"] = None\n",
    "\n",
    "    try:\n",
    "        # Extract relative link from <a>\n",
    "        a_tag = soup.find(\"a\", class_=\"reference internal\")\n",
    "        relative_link = a_tag.get(\"href\")\n",
    "        full_url = urljoin(base_url, relative_link)\n",
    "    except Exception:\n",
    "        result[\"page_text\"] = \"\"\n",
    "        result[\"page_links\"] = []\n",
    "        return result\n",
    "    try:\n",
    "        # Request the page\n",
    "        response = requests.get(full_url)\n",
    "        page_soup = bs(response.text, \"html.parser\")\n",
    "\n",
    "        # Extract page text\n",
    "        content_div = page_soup.find(\"div\", class_=\"pytorch-content-left\")\n",
    "        if not content_div:\n",
    "            raise ValueError(\"Content div not found\")\n",
    "\n",
    "        link_counter = 1\n",
    "        link_refs = []\n",
    "\n",
    "        def clean_text(element, level=0):\n",
    "            nonlocal link_counter, link_refs\n",
    "            parts = []\n",
    "            for child in element.children:\n",
    "                if child.name is not None:\n",
    "                    # Replace ¶ links with placeholders and store href\n",
    "                    if child.name == 'a' and 'headerlink' in (child.get('class') or []):\n",
    "                        href = child.get(\"href\")\n",
    "                        if href:\n",
    "                            placeholder = f\" [LINK_{link_counter}] \"\n",
    "                            parts.append(placeholder)\n",
    "                            link_refs.append(f\"{placeholder} : {urljoin(full_url, href)}\")\n",
    "                            link_counter += 1\n",
    "                        continue\n",
    "                    elif child.name == 'span':\n",
    "                        if 'w' in (child.get('class') or []):\n",
    "                            parts.append(' ')  # span.w = space\n",
    "                        else:\n",
    "                            parts.append(clean_text(child, level + 1))  # inline, no space\n",
    "                    else:\n",
    "                        text = clean_text(child, level + 1)\n",
    "                        if text:\n",
    "                            parts.append(' '+ text + ('\\n' if level == 0 else ' '))\n",
    "                elif child.string:\n",
    "                    stripped = child.string.strip()\n",
    "                    if stripped:\n",
    "                        parts.append(stripped)\n",
    "            return ''.join(parts).strip()\n",
    "\n",
    "        # Extract all links\n",
    "        page_text = \"\"\n",
    "        for child in content_div.children:\n",
    "            if getattr(child, 'name', None):  # skip NavigableString or comments\n",
    "                section_text = clean_text(child, level=0)\n",
    "                if section_text:\n",
    "                    page_text += section_text + '\\n'\n",
    "        result[\"page_text\"] = page_text.strip() + (\"\\n\\n\" + \"\\n\".join(link_refs) if link_refs else \"\")\n",
    "\n",
    "\n",
    "\n",
    "        links = [urljoin(full_url, a.get(\"href\")) for a in page_soup.find(\"div\",class_=\"pytorch-content-left\").find_all(\"a\", href=True)]\n",
    "        result[\"page_links\"] = links\n",
    "\n",
    "    except Exception as e:\n",
    "        result[\"page_text\"] = \"\"\n",
    "        result[\"page_links\"] = []\n",
    "\n",
    "    return result\n"
   ]
  },
  {
   "cell_type": "code",
   "execution_count": 6,
   "metadata": {},
   "outputs": [
    {
     "name": "stdout",
     "output_type": "stream",
     "text": [
      "torch.nn\n",
      "These are the basic building blocks for graphs:\n"
     ]
    }
   ],
   "source": [
    "documents=soup.find_all(\"tr\")\n",
    "title=soup.find(\"h1\")\n",
    "title_text=title.next\n",
    "print(title_text)\n",
    "\n",
    "heading=title.find_next_sibling(\"p\").text\n",
    "print(heading)\n",
    "    "
   ]
  },
  {
   "cell_type": "code",
   "execution_count": 7,
   "metadata": {},
   "outputs": [],
   "source": [
    "with open(\"doc_info.json\", \"w\", encoding=\"utf-8\") as f:\n",
    "    # Write the opening of the JSON object. Giving it the heading\n",
    "    f.write('{\\n')\n",
    "    f.write(f'\"title\": {json.dumps(title_text)},\\n')\n",
    "    f.write(f'\"heading\": {json.dumps(heading)},\\n')\n",
    "    f.write('\"documents\": [\\n')\n",
    "\n",
    "    documents = soup.find_all(\"tr\")\n",
    "    for i, row in enumerate(documents):\n",
    "        d = extract_doc_info(row)\n",
    "        json.dump(d, f, ensure_ascii=False, indent=2)\n",
    "\n",
    "        if i < len(documents) - 1:\n",
    "            f.write(',\\n')\n",
    "        else:\n",
    "            f.write('\\n')\n",
    "\n",
    "    f.write(']\\n}')"
   ]
  },
  {
   "cell_type": "code",
   "execution_count": null,
   "metadata": {},
   "outputs": [],
   "source": []
  }
 ],
 "metadata": {
  "kernelspec": {
   "display_name": "bs",
   "language": "python",
   "name": "python3"
  },
  "language_info": {
   "codemirror_mode": {
    "name": "ipython",
    "version": 3
   },
   "file_extension": ".py",
   "mimetype": "text/x-python",
   "name": "python",
   "nbconvert_exporter": "python",
   "pygments_lexer": "ipython3",
   "version": "3.13.2"
  }
 },
 "nbformat": 4,
 "nbformat_minor": 2
}
