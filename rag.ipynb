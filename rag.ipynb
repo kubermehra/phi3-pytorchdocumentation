{
 "cells": [
  {
   "cell_type": "code",
   "execution_count": 54,
   "metadata": {},
   "outputs": [],
   "source": [
    "from langchain_community.llms import Ollama\n",
    "\n",
    "llm = Ollama(model=\"phi3\")\n"
   ]
  },
  {
   "cell_type": "code",
   "execution_count": 55,
   "metadata": {},
   "outputs": [],
   "source": [
    "from langchain.embeddings import HuggingFaceEmbeddings\n",
    "\n",
    "# Generate embeddings\n",
    "embedding_model = HuggingFaceEmbeddings(model_name=\"all-MiniLM-L6-v2\")\n"
   ]
  },
  {
   "cell_type": "code",
   "execution_count": 56,
   "metadata": {},
   "outputs": [],
   "source": [
    "from langchain.vectorstores import FAISS\n",
    "# Load saved Vector Store\n",
    "vectorstore = FAISS.load_local(\"faiss_index\", embedding_model, allow_dangerous_deserialization=True)"
   ]
  },
  {
   "cell_type": "code",
   "execution_count": null,
   "metadata": {},
   "outputs": [],
   "source": []
  },
  {
   "cell_type": "code",
   "execution_count": 65,
   "metadata": {},
   "outputs": [],
   "source": [
    "from langchain.chains import RetrievalQA\n",
    "from langchain.prompts import ChatPromptTemplate\n",
    "\n",
    "\n",
    "retriever = vectorstore.as_retriever(search_type=\"similarity_score_threshold\", search_kwargs={\"k\": 6,\"score_threshold\": 0.2})\n",
    "prompt = ChatPromptTemplate.from_messages([\n",
    "    (\"system\", \"You are a helpful assistant. Only answer using the provided context. If the context is empty, just say that it is out of my scope If unsure, say 'I do not know.\\n context: \\n{context}'\"),\n",
    "    (\"human\", \"question:\\n {question}\")\n",
    "])\n",
    "\n",
    "def custom_rag_qa(question):\n",
    "    docs = retriever.get_relevant_documents(question)\n",
    "\n",
    "    if not docs:  # If no relevant docs found\n",
    "        return {\"query\": question, \"result\": \"I cannot assist you with this query\"}\n",
    "\n",
    "    # If documents found, run through standard RAG\n",
    "    rag_chain = RetrievalQA.from_chain_type(\n",
    "    llm=llm,\n",
    "    retriever=retriever,\n",
    "    chain_type='stuff',\n",
    "    chain_type_kwargs={\"prompt\":prompt},\n",
    "    return_source_documents=True\n",
    ")\n",
    "    return rag_chain.invoke(question)\n",
    "\n",
    "\n",
    "\n",
    "\n",
    "# Ask a question\n",
    "\n"
   ]
  },
  {
   "cell_type": "code",
   "execution_count": 66,
   "metadata": {},
   "outputs": [
    {
     "name": "stderr",
     "output_type": "stream",
     "text": [
      "c:\\Users\\kuber\\anaconda3\\envs\\rag\\Lib\\site-packages\\langchain_core\\vectorstores\\base.py:1080: UserWarning: Relevance scores must be between 0 and 1, got [(Document(id='d4bc54da-2e41-433d-8e8f-fd10967e0d9f', metadata={'title': 'nn.BatchNorm3d', 'page_links': ['https://pytorch.org/docs/stable/generated/torch.nn.BatchNorm3d.html#batchnorm3d', 'https://pytorch.org/docs/stable/_modules/torch/nn/modules/batchnorm.html#BatchNorm3d', 'https://github.com/pytorch/pytorch/blob/v2.6.0/torch/nn/modules/batchnorm.py#L489', 'https://pytorch.org/docs/stable/generated/torch.nn.BatchNorm3d.html#torch.nn.BatchNorm3d', 'https://arxiv.org/abs/1502.03167', 'https://docs.python.org/3/library/functions.html#int', 'https://docs.python.org/3/library/functions.html#float', 'https://docs.python.org/3/library/typing.html#typing.Optional', 'https://docs.python.org/3/library/functions.html#float', 'https://docs.python.org/3/library/functions.html#bool', 'https://docs.python.org/3/library/functions.html#bool', 'https://pytorch.org/docs/stable/generated/torch.nn.LazyBatchNorm1d.html', 'https://pytorch.org/docs/stable/generated/torch.nn.BatchNorm2d.html', 'http://sphinx-doc.org/', 'https://github.com/rtfd/sphinx_rtd_theme', 'https://readthedocs.org']}, page_content='in both training and eval modes. Default: True  Shape:  Input:(  N  ,  C  ,  D  ,  H  ,  W  )  (N, C, D, H, W)(N,C,D,H,W)  Output:(  N  ,  C  ,  D  ,  H  ,  W  )  (N, C, D, H, W)(N,C,D,H,W)(same shape as input)  Examples:  >>># With Learnable Parameters>>>m=nn.BatchNorm3d(100)>>># Without Learnable Parameters>>>m=nn.BatchNorm3d(100,affine=False)>>>input=torch.randn(20,100,35,45,10)>>>output=m(input)'), np.float32(-0.06988442)), (Document(id='189a6d2a-9bd3-431c-b29f-af3736d2e08c', metadata={'title': 'nn.Conv3d', 'page_links': ['https://pytorch.org/docs/stable/generated/torch.nn.Conv3d.html#conv3d', 'https://pytorch.org/docs/stable/_modules/torch/nn/modules/conv.html#Conv3d', 'https://github.com/pytorch/pytorch/blob/v2.6.0/torch/nn/modules/conv.py#L557', 'https://pytorch.org/docs/stable/generated/torch.nn.Conv3d.html#torch.nn.Conv3d', 'https://en.wikipedia.org/wiki/Cross-correlation', 'https://pytorch.org/docs/stable/notes/cuda.html#tf32-on-ampere', 'https://pytorch.org/docs/stable/notes/numerical_accuracy.html#fp16-on-mi200', 'https://github.com/vdumoulin/conv_arithmetic/blob/master/README.md', 'https://pytorch.org/docs/stable/notes/randomness.html', 'https://docs.python.org/3/library/functions.html#int', 'https://docs.python.org/3/library/functions.html#int', 'https://docs.python.org/3/library/functions.html#int', 'https://docs.python.org/3/library/stdtypes.html#tuple', 'https://docs.python.org/3/library/functions.html#int', 'https://docs.python.org/3/library/stdtypes.html#tuple', 'https://docs.python.org/3/library/functions.html#int', 'https://docs.python.org/3/library/stdtypes.html#tuple', 'https://docs.python.org/3/library/stdtypes.html#str', 'https://docs.python.org/3/library/functions.html#int', 'https://docs.python.org/3/library/stdtypes.html#tuple', 'https://docs.python.org/3/library/functions.html#int', 'https://docs.python.org/3/library/functions.html#bool', 'https://docs.python.org/3/library/stdtypes.html#str', 'https://pytorch.org/docs/stable/tensors.html#torch.Tensor', 'https://pytorch.org/docs/stable/tensors.html#torch.Tensor', 'https://pytorch.org/docs/stable/generated/torch.nn.ConvTranspose1d.html', 'https://pytorch.org/docs/stable/generated/torch.nn.Conv2d.html', 'http://sphinx-doc.org/', 'https://github.com/rtfd/sphinx_rtd_theme', 'https://readthedocs.org']}, page_content='i  n  ,  D  i  n  ,  H  i  n  ,  W  i  n  )  (N, C_{in}, D_{in}, H_{in}, W_{in})(N,Cin\\u200b,Din\\u200b,Hin\\u200b,Win\\u200b)or(  C  i  n  ,  D  i  n  ,  H  i  n  ,  W  i  n  )  (C_{in}, D_{in}, H_{in}, W_{in})(Cin\\u200b,Din\\u200b,Hin\\u200b,Win\\u200b)  Output:(  N  ,  C  o  u  t  ,  D  o  u  t  ,  H  o  u  t  ,  W  o  u  t  )  (N, C_{out}, D_{out}, H_{out}, W_{out})(N,Cout\\u200b,Dout\\u200b,Hout\\u200b,Wout\\u200b)or(  C  o  u  t  ,  D  o  u  t  ,  H  o  u  t  ,  W  o  u  t  )  (C_{out}, D_{out}, H_{out}, W_{out})(Cout\\u200b,Dout\\u200b,Hout\\u200b,Wout\\u200b),'), np.float32(-0.0840863)), (Document(id='feaac6e7-091f-4dc5-b2ef-95ad9d3c8377', metadata={'title': 'parametrize.register_parametrization', 'page_links': ['https://pytorch.org/docs/stable/generated/torch.nn.utils.parametrize.register_parametrization.html#torch-nn-utils-parametrize-register-parametrization', 'https://pytorch.org/docs/stable/_modules/torch/nn/utils/parametrize.html#register_parametrization', 'https://github.com/pytorch/pytorch/blob/v2.6.0/torch/nn/utils/parametrize.py#L417', 'https://pytorch.org/docs/stable/generated/torch.nn.utils.parametrize.register_parametrization.html#torch.nn.utils.parametrize.register_parametrization', 'https://pytorch.org/docs/stable/generated/torch.nn.utils.parametrize.ParametrizationList.html#torch.nn.utils.parametrize.ParametrizationList', 'https://pytorch.org/docs/stable/generated/torch.nn.utils.parametrize.cached.html#torch.nn.utils.parametrize.cached', 'https://en.wikipedia.org/wiki/Inverse_function#Right_inverses', 'https://pytorch.org/docs/stable/generated/torch.nn.utils.parametrize.register_parametrization.html#torch.nn.utils.parametrize.register_parametrization', 'https://pytorch.org/docs/stable/generated/torch.nn.Module.html#torch.nn.Module', 'https://docs.python.org/3/library/stdtypes.html#str', 'https://pytorch.org/docs/stable/generated/torch.nn.Module.html#torch.nn.Module', 'https://docs.python.org/3/library/functions.html#bool', 'https://docs.python.org/3/library/exceptions.html#ValueError', 'https://pytorch.org/docs/stable/generated/torch.nn.Module.html#torch.nn.Module', 'https://pytorch.org/docs/stable/generated/torch.nn.utils.parametrize.remove_parametrizations.html', 'https://pytorch.org/docs/stable/generated/torch.nn.utils.parametrizations.spectral_norm.html', 'http://sphinx-doc.org/', 'https://github.com/rtfd/sphinx_rtd_theme', 'https://readthedocs.org']}, page_content='to the optimizer. See torch.Optimizer.add_param_group() .  Parameters  module ( nn.Module ) – module on which to register the parametrization  tensor_name ( str ) – name of the parameter or buffer on which to register\\nthe parametrization  parametrization ( nn.Module ) – the parametrization to register  Keyword Arguments  unsafe ( bool ) – a boolean flag that denotes whether the parametrization'), np.float32(-0.09459031)), (Document(id='ce703e67-fb77-4b30-9d46-c9297cd4c8f5', metadata={'title': 'nn.RNN', 'page_links': ['https://pytorch.org/docs/stable/generated/torch.nn.RNN.html#rnn', 'https://pytorch.org/docs/stable/_modules/torch/nn/modules/rnn.html#RNN', 'https://github.com/pytorch/pytorch/blob/v2.6.0/torch/nn/modules/rnn.py#L469', 'https://pytorch.org/docs/stable/generated/torch.nn.RNN.html#torch.nn.RNN', 'https://pytorch.org/docs/stable/generated/torch.nn.utils.rnn.pack_padded_sequence.html#torch.nn.utils.rnn.pack_padded_sequence', 'https://pytorch.org/docs/stable/generated/torch.nn.utils.rnn.pack_sequence.html#torch.nn.utils.rnn.pack_sequence', 'https://pytorch.org/docs/stable/generated/torch.nn.utils.rnn.PackedSequence.html#torch.nn.utils.rnn.PackedSequence', 'https://docs.nvidia.com/deeplearning/sdk/cudnn-release-notes/rel_8.html', 'https://pytorch.org/docs/stable/generated/torch.nn.LSTM.html', 'https://pytorch.org/docs/stable/generated/torch.nn.RNNBase.html', 'http://sphinx-doc.org/', 'https://github.com/rtfd/sphinx_rtd_theme', 'https://readthedocs.org']}, page_content='to the following with bidirectional=Falsedefforward(x,hx=None):ifbatch_first:x=x.transpose(0,1)seq_len,batch_size,_=x.size()ifhxisNone:hx=torch.zeros(num_layers,batch_size,hidden_size)h_t_minus_1=hxh_t=hxoutput=[]fortinrange(seq_len):forlayerinrange(num_layers):h_t[layer]=torch.tanh(x[t]@weight_ih[layer].T+bias_ih[layer]+h_t_minus_1[layer]@weight_hh[layer].T+bias_hh[layer])output.append(h_t[-1])h_t_minus_1=h_toutput=torch.stack(output)ifbatch_first:output=output.transpose(0,1)returnoutput,h_t'), np.float32(-0.09569585)), (Document(id='9dc0f376-8882-4cea-a316-4ef2cffb517e', metadata={'title': 'nn.Conv3d', 'page_links': ['https://pytorch.org/docs/stable/generated/torch.nn.Conv3d.html#conv3d', 'https://pytorch.org/docs/stable/_modules/torch/nn/modules/conv.html#Conv3d', 'https://github.com/pytorch/pytorch/blob/v2.6.0/torch/nn/modules/conv.py#L557', 'https://pytorch.org/docs/stable/generated/torch.nn.Conv3d.html#torch.nn.Conv3d', 'https://en.wikipedia.org/wiki/Cross-correlation', 'https://pytorch.org/docs/stable/notes/cuda.html#tf32-on-ampere', 'https://pytorch.org/docs/stable/notes/numerical_accuracy.html#fp16-on-mi200', 'https://github.com/vdumoulin/conv_arithmetic/blob/master/README.md', 'https://pytorch.org/docs/stable/notes/randomness.html', 'https://docs.python.org/3/library/functions.html#int', 'https://docs.python.org/3/library/functions.html#int', 'https://docs.python.org/3/library/functions.html#int', 'https://docs.python.org/3/library/stdtypes.html#tuple', 'https://docs.python.org/3/library/functions.html#int', 'https://docs.python.org/3/library/stdtypes.html#tuple', 'https://docs.python.org/3/library/functions.html#int', 'https://docs.python.org/3/library/stdtypes.html#tuple', 'https://docs.python.org/3/library/stdtypes.html#str', 'https://docs.python.org/3/library/functions.html#int', 'https://docs.python.org/3/library/stdtypes.html#tuple', 'https://docs.python.org/3/library/functions.html#int', 'https://docs.python.org/3/library/functions.html#bool', 'https://docs.python.org/3/library/stdtypes.html#str', 'https://pytorch.org/docs/stable/tensors.html#torch.Tensor', 'https://pytorch.org/docs/stable/tensors.html#torch.Tensor', 'https://pytorch.org/docs/stable/generated/torch.nn.ConvTranspose1d.html', 'https://pytorch.org/docs/stable/generated/torch.nn.Conv2d.html', 'http://sphinx-doc.org/', 'https://github.com/rtfd/sphinx_rtd_theme', 'https://readthedocs.org']}, page_content='planes.  In the simplest case, the output value of the layer with input size(  N  ,  C  i  n  ,  D  ,  H  ,  W  )  (N, C_{in}, D, H, W)(N,Cin\\u200b,D,H,W)and output(  N  ,  C  o  u  t  ,  D  o  u  t  ,  H  o  u  t  ,  W  o  u  t  )  (N, C_{out}, D_{out}, H_{out}, W_{out})(N,Cout\\u200b,Dout\\u200b,Hout\\u200b,Wout\\u200b)can be precisely described as:  o  u  t  (  N  i  ,  C  o  u  t  j  )  =  b  i  a  s  (  C  o  u  t  j  )  +  ∑  k  =  0  C  i  n  −  1  w  e  i  g  h  t  (  C  o  u  t  j  ,  k  )  ⋆  i  n  p  u  t  (  N'), np.float32(-0.09637833)), (Document(id='3e2fc4ea-12f9-44a5-9558-73f6e8a0a093', metadata={'title': 'nn.BatchNorm1d', 'page_links': ['https://pytorch.org/docs/stable/generated/torch.nn.BatchNorm1d.html#batchnorm1d', 'https://pytorch.org/docs/stable/_modules/torch/nn/modules/batchnorm.html#BatchNorm1d', 'https://github.com/pytorch/pytorch/blob/v2.6.0/torch/nn/modules/batchnorm.py#L268', 'https://pytorch.org/docs/stable/generated/torch.nn.BatchNorm1d.html#torch.nn.BatchNorm1d', 'https://arxiv.org/abs/1502.03167', 'https://docs.python.org/3/library/functions.html#int', 'https://docs.python.org/3/library/functions.html#float', 'https://docs.python.org/3/library/typing.html#typing.Optional', 'https://docs.python.org/3/library/functions.html#float', 'https://docs.python.org/3/library/functions.html#bool', 'https://docs.python.org/3/library/functions.html#bool', 'https://pytorch.org/docs/stable/generated/torch.nn.BatchNorm2d.html', 'https://pytorch.org/docs/stable/generated/torch.nn.AdaptiveLogSoftmaxWithLoss.html', 'http://sphinx-doc.org/', 'https://github.com/rtfd/sphinx_rtd_theme', 'https://readthedocs.org']}, page_content='Without Learnable Parameters>>>m=nn.BatchNorm1d(100,affine=False)>>>input=torch.randn(20,100)>>>output=m(input)'), np.float32(-0.100452065))]\n",
      "  self.vectorstore.similarity_search_with_relevance_scores(\n",
      "No relevant docs were retrieved using the relevance score threshold 0.2\n"
     ]
    },
    {
     "name": "stdout",
     "output_type": "stream",
     "text": [
      "{'query': 'How to cook', 'result': 'I cannot assist you with this query'}\n"
     ]
    }
   ],
   "source": [
    "result = custom_rag_qa(\"How to cook\")\n",
    "print(result)"
   ]
  },
  {
   "cell_type": "code",
   "execution_count": 67,
   "metadata": {},
   "outputs": [
    {
     "name": "stdout",
     "output_type": "stream",
     "text": [
      "query How to cook\n",
      "result I cannot assist you with this query\n"
     ]
    }
   ],
   "source": [
    "for i in result:\n",
    "    print(i,result[i])"
   ]
  },
  {
   "cell_type": "code",
   "execution_count": null,
   "metadata": {},
   "outputs": [],
   "source": []
  }
 ],
 "metadata": {
  "kernelspec": {
   "display_name": "rag",
   "language": "python",
   "name": "python3"
  },
  "language_info": {
   "codemirror_mode": {
    "name": "ipython",
    "version": 3
   },
   "file_extension": ".py",
   "mimetype": "text/x-python",
   "name": "python",
   "nbconvert_exporter": "python",
   "pygments_lexer": "ipython3",
   "version": "3.13.2"
  }
 },
 "nbformat": 4,
 "nbformat_minor": 2
}
